{
 "cells": [
  {
   "cell_type": "code",
   "execution_count": 1,
   "metadata": {},
   "outputs": [],
   "source": [
    "import spotipy\n",
    "from spotipy.oauth2 import SpotifyOAuth"
   ]
  },
  {
   "cell_type": "code",
   "execution_count": 5,
   "metadata": {},
   "outputs": [
    {
     "data": {
      "text/plain": [
       "(429, 500, 502, 503, 504)"
      ]
     },
     "execution_count": 5,
     "metadata": {},
     "output_type": "execute_result"
    }
   ],
   "source": [
    "username = 'arnavakula'\n",
    "scope = 'user-modify-playback-state user-read-recently-played streaming user-top-read playlist-modify-public user-read-playback-position user-library-read '\n",
    "token = SpotifyOAuth(username=username, scope=scope, client_id='', client_secret='', redirect_uri='http://127.0.0.1:880/')\n",
    "spot = spotipy.Spotify(auth_manager=token)\n",
    "spot.status_forcelist"
   ]
  },
  {
   "cell_type": "code",
   "execution_count": 6,
   "metadata": {},
   "outputs": [
    {
     "name": "stdout",
     "output_type": "stream",
     "text": [
      "{'num_samples': 5178810, 'duration': 234.86667, 'sample_md5': '', 'offset_seconds': 0, 'window_seconds': 0, 'analysis_sample_rate': 22050, 'analysis_channels': 1, 'end_of_fade_in': 0.29442, 'start_of_fade_out': 224.89107, 'loudness': -8.8, 'tempo': 96.887, 'tempo_confidence': 0.892, 'time_signature': 4, 'time_signature_confidence': 0.989, 'key': 9, 'key_confidence': 0.0, 'mode': 1, 'mode_confidence': 0.0, 'code_version': 3.15, 'echoprint_version': 4.12, 'synch_version': 1.0, 'rhythm_version': 1.0}\n"
     ]
    }
   ],
   "source": [
    "aad = spot.audio_analysis('6BQNJ0JFKh8sWjQLI6Zudi')['track']\n",
    "remove_keys = ['codestring', 'echoprintstring', 'synchstring', 'rhythmstring']\n",
    "[aad.pop(key) for key in remove_keys]\n",
    "print(aad)"
   ]
  },
  {
   "cell_type": "code",
   "execution_count": 4,
   "metadata": {},
   "outputs": [
    {
     "name": "stdout",
     "output_type": "stream",
     "text": [
      "[{'danceability': 0.721, 'energy': 0.558, 'key': 9, 'loudness': -8.8, 'mode': 1, 'speechiness': 0.0246, 'acousticness': 0.492, 'instrumentalness': 0.00563, 'liveness': 0.113, 'valence': 0.542, 'tempo': 96.887, 'type': 'audio_features', 'id': '6BQNJ0JFKh8sWjQLI6Zudi', 'uri': 'spotify:track:6BQNJ0JFKh8sWjQLI6Zudi', 'track_href': 'https://api.spotify.com/v1/tracks/6BQNJ0JFKh8sWjQLI6Zudi', 'analysis_url': 'https://api.spotify.com/v1/audio-analysis/6BQNJ0JFKh8sWjQLI6Zudi', 'duration_ms': 234867, 'time_signature': 4}]\n"
     ]
    }
   ],
   "source": [
    "afd = spot.audio_features('6BQNJ0JFKh8sWjQLI6Zudi')\n",
    "print(afd)"
   ]
  },
  {
   "cell_type": "code",
   "execution_count": 7,
   "metadata": {},
   "outputs": [
    {
     "data": {
      "text/plain": [
       "'spotify:track:2xagxXsIEZ4fJnWXTkzCzN'"
      ]
     },
     "execution_count": 7,
     "metadata": {},
     "output_type": "execute_result"
    }
   ],
   "source": [
    "cust = spot.current_user_saved_tracks(limit=1, offset=1)\n",
    "uri = cust['items'][0]['track']['uri']\n",
    "uri"
   ]
  },
  {
   "cell_type": "code",
   "execution_count": 8,
   "metadata": {},
   "outputs": [
    {
     "data": {
      "text/plain": [
       "'7H55rcKCfwqkyDFH9wpKM6'"
      ]
     },
     "execution_count": 8,
     "metadata": {},
     "output_type": "execute_result"
    }
   ],
   "source": [
    "id = spot.track(uri)['artists'][0]['id']\n",
    "id"
   ]
  },
  {
   "cell_type": "code",
   "execution_count": 9,
   "metadata": {},
   "outputs": [
    {
     "name": "stdout",
     "output_type": "stream",
     "text": [
      "when you wish upon a star\n"
     ]
    }
   ],
   "source": [
    "print(spot.track(uri)['name'])"
   ]
  },
  {
   "cell_type": "code",
   "execution_count": 14,
   "metadata": {},
   "outputs": [
    {
     "data": {
      "text/plain": [
       "'Christina Perri'"
      ]
     },
     "execution_count": 14,
     "metadata": {},
     "output_type": "execute_result"
    }
   ],
   "source": [
    "spot.artist(id)['name']"
   ]
  },
  {
   "cell_type": "code",
   "execution_count": 19,
   "metadata": {},
   "outputs": [
    {
     "name": "stdout",
     "output_type": "stream",
     "text": [
      "<class 'str'>\n"
     ]
    },
    {
     "data": {
      "text/plain": [
       "'Christina Perri'"
      ]
     },
     "execution_count": 19,
     "metadata": {},
     "output_type": "execute_result"
    }
   ],
   "source": [
    "x = spot.track(uri)['album']['artists'][0]['name']\n",
    "print(type(x))\n",
    "x"
   ]
  },
  {
   "cell_type": "code",
   "execution_count": 20,
   "metadata": {},
   "outputs": [],
   "source": [
    "title = 'Dreams, Fairytales, Fantasies (feat. Brent Faiyaz & Salaam Remi)'\n",
    "import re"
   ]
  },
  {
   "cell_type": "code",
   "execution_count": 37,
   "metadata": {},
   "outputs": [
    {
     "data": {
      "text/plain": [
       "'Dreams, Fairytales, Fantasies ('"
      ]
     },
     "execution_count": 37,
     "metadata": {},
     "output_type": "execute_result"
    }
   ],
   "source": [
    "re.sub('feat.*', '', title)"
   ]
  },
  {
   "cell_type": "code",
   "execution_count": null,
   "metadata": {},
   "outputs": [],
   "source": []
  }
 ],
 "metadata": {
  "kernelspec": {
   "display_name": "Python 3.9.7 ('song-classification': venv)",
   "language": "python",
   "name": "python3"
  },
  "language_info": {
   "codemirror_mode": {
    "name": "ipython",
    "version": 3
   },
   "file_extension": ".py",
   "mimetype": "text/x-python",
   "name": "python",
   "nbconvert_exporter": "python",
   "pygments_lexer": "ipython3",
   "version": "3.9.7"
  },
  "orig_nbformat": 4,
  "vscode": {
   "interpreter": {
    "hash": "d26c452a9eb46a03427826e1540fa07f3a31a695a145f7cf088e4481b63538b7"
   }
  }
 },
 "nbformat": 4,
 "nbformat_minor": 2
}
